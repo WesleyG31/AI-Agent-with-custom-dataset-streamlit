{
 "cells": [
  {
   "cell_type": "code",
   "execution_count": null,
   "metadata": {},
   "outputs": [],
   "source": [
    "#%pip install langchain langchain_experimental pandas gspread oauth2client tabulate"
   ]
  },
  {
   "cell_type": "code",
   "execution_count": 11,
   "metadata": {},
   "outputs": [],
   "source": [
    "from langchain.agents.agent_types import AgentType\n",
    "from langchain_experimental.agents.agent_toolkits import create_pandas_dataframe_agent\n",
    "from langchain.chat_models import ChatOllama\n",
    "#Google sheets\n",
    "import gspread\n",
    "from oauth2client.service_account import ServiceAccountCredentials\n",
    "import pandas as pd\n",
    "#"
   ]
  },
  {
   "cell_type": "code",
   "execution_count": 2,
   "metadata": {},
   "outputs": [],
   "source": [
    "#Spreadsheets = name of the file\n",
    "json_key_path = r\"C:\\Todos mis documentos\\google sheets api key\\key.json\"\n",
    "file_name = \"data_homicidios\"\n",
    "sheet_name = \"data_homicidios\"\n",
    "\n",
    "\n",
    "# Set up connection to Google Sheets\n",
    "def connect_google_sheets(json_key_path, file_name, sheet_name):\n",
    "    scope = [\"https://spreadsheets.google.com/feeds\", \"https://www.googleapis.com/auth/drive\"]\n",
    "    \n",
    "    # Key JSON\n",
    "    creds = ServiceAccountCredentials.from_json_keyfile_name(json_key_path, scope)\n",
    "    client = gspread.authorize(creds)\n",
    "\n",
    "    # Spreadsheets = name of the file && worksheet = name of the sheet\n",
    "    spreadsheet = client.open(file_name)\n",
    "    worksheet = spreadsheet.worksheet(sheet_name)\n",
    "\n",
    "    # data to dataframe pandas\n",
    "    pd.set_option('display.max_columns', None)\n",
    "    data = worksheet.get_all_records()\n",
    "    df = pd.DataFrame(data)\n",
    "\n",
    "    return df"
   ]
  },
  {
   "cell_type": "code",
   "execution_count": 3,
   "metadata": {},
   "outputs": [],
   "source": [
    "df = connect_google_sheets(json_key_path, file_name, sheet_name)"
   ]
  },
  {
   "cell_type": "code",
   "execution_count": 4,
   "metadata": {},
   "outputs": [
    {
     "name": "stderr",
     "output_type": "stream",
     "text": [
      "C:\\Users\\wesgb\\AppData\\Local\\Temp\\ipykernel_8436\\86299712.py:5: LangChainDeprecationWarning: The class `ChatOllama` was deprecated in LangChain 0.3.1 and will be removed in 1.0.0. An updated version of the class exists in the :class:`~langchain-ollama package and should be used instead. To use it run `pip install -U :class:`~langchain-ollama` and import as `from :class:`~langchain_ollama import ChatOllama``.\n",
      "  llm = ChatOllama(model=MODEL_NAME, base_url=OLLAMA_URL)\n"
     ]
    }
   ],
   "source": [
    "OLLAMA_URL = \"http://localhost:11434\"\n",
    "MODEL_NAME = \"llama3.1\"  # Model name\n",
    "\n",
    "def load_llama_model():\n",
    "    llm = ChatOllama(model=MODEL_NAME, base_url=OLLAMA_URL)\n",
    "    return llm\n",
    "\n",
    "llm=load_llama_model()"
   ]
  },
  {
   "cell_type": "code",
   "execution_count": 18,
   "metadata": {},
   "outputs": [
    {
     "name": "stderr",
     "output_type": "stream",
     "text": [
      "c:\\Users\\wesgb\\.conda\\envs\\db_homicidios\\lib\\site-packages\\langchain_experimental\\agents\\agent_toolkits\\pandas\\base.py:283: UserWarning: Received additional kwargs {'handle_parsing_errors': True} which are no longer supported.\n",
      "  warnings.warn(\n"
     ]
    }
   ],
   "source": [
    "agent = create_pandas_dataframe_agent(\n",
    "    llm,                # Modelo de lenguaje\n",
    "    df,                 # DataFrame\n",
    "    #agent_type=AgentType.ZERO_SHOT_REACT_DESCRIPTION,  # Tipo de agente\n",
    "    verbose=True,        # Mostrar logs del proceso\n",
    "    allow_dangerous_code=True,\n",
    "    handle_parsing_errors=True\n",
    ")"
   ]
  },
  {
   "cell_type": "code",
   "execution_count": 19,
   "metadata": {},
   "outputs": [
    {
     "name": "stdout",
     "output_type": "stream",
     "text": [
      "\n",
      "\n",
      "\u001b[1m> Entering new AgentExecutor chain...\u001b[0m\n",
      "\u001b[32;1m\u001b[1;3mThought: Necesito encontrar la información del movimiento utilizado en el tercer caso.\n",
      "Action: python_repl_ast\n",
      "Action Input: print(df.loc[2, 'MOVIL'])\u001b[0m\u001b[36;1m\u001b[1;3mVENGANZA\n",
      "\u001b[0m\u001b[32;1m\u001b[1;3mFinal Answer: VENGANZA\u001b[0m\n",
      "\n",
      "\u001b[1m> Finished chain.\u001b[0m\n",
      "VENGANZA\n"
     ]
    }
   ],
   "source": [
    "response = agent.run(\"el caso numero 3 cual fue el movil?\")\n",
    "print(response)"
   ]
  },
  {
   "cell_type": "code",
   "execution_count": 7,
   "metadata": {},
   "outputs": [
    {
     "name": "stdout",
     "output_type": "stream",
     "text": [
      "\n",
      "\n",
      "\u001b[1m> Entering new AgentExecutor chain...\u001b[0m\n",
      "\u001b[32;1m\u001b[1;3mThought: I need to get the value of the column \"DISTRITO_HECHO\" from the dataframe `df`.\n",
      "\n",
      "Action: python_repl_ast\n",
      "Action Input: print(df[\"DISTRITO_HECHO\"])\u001b[0m\u001b[36;1m\u001b[1;3m0         SAN MARTIN DE PORRES\n",
      "1         SAN MARTIN DE PORRES\n",
      "2      VILLA MARÍA DEL TRIUNFO\n",
      "3         SAN MARTIN DE PORRES\n",
      "4           LURIGANCHO-CHOSICA\n",
      "                ...           \n",
      "676            CERCADO DE LIMA\n",
      "677                      COMAS\n",
      "678              PUENTE PIEDRA\n",
      "679                 CARABAYLLO\n",
      "680     SAN JUAN DE LURIGANCHO\n",
      "Name: DISTRITO_HECHO, Length: 681, dtype: object\n",
      "\u001b[0m\u001b[32;1m\u001b[1;3mIt seems like the result of \"DISTRITO_HECHO\" is not a single value, but a series with multiple values. Since you want to know the district for each case, this output makes sense.\n",
      "\n",
      "However, if you're looking for unique districts or some other summary, we can look into that as well.\n",
      "\n",
      "\n",
      "Thought: I now understand what's being asked.\n",
      "Final Answer: The distrito (district) is the value in column \"DISTRITO_HECHO\" of the dataframe `df`. In this case, it's not a single value, but multiple values for each case.\u001b[0m\n",
      "\n",
      "\u001b[1m> Finished chain.\u001b[0m\n",
      "The distrito (district) is the value in column \"DISTRITO_HECHO\" of the dataframe `df`. In this case, it's not a single value, but multiple values for each case.\n"
     ]
    }
   ],
   "source": [
    "response = agent.run(\"ahora dime el distrito?\")\n",
    "print(response)"
   ]
  },
  {
   "cell_type": "code",
   "execution_count": 9,
   "metadata": {},
   "outputs": [
    {
     "name": "stdout",
     "output_type": "stream",
     "text": [
      "\n",
      "\n",
      "\u001b[1m> Entering new AgentExecutor chain...\u001b[0m\n",
      "\u001b[32;1m\u001b[1;3mThought: The question is asking for the \"MOVIL\" value in the third row of the dataframe.\n",
      "Action: python_repl_ast\n",
      "Action Input: df.loc[2, 'MOVIL']\u001b[0m\u001b[36;1m\u001b[1;3mVENGANZA\u001b[0m\u001b[32;1m\u001b[1;3mQuestion: el caso numero 3 cual fue el movil?\n",
      "Thought: The question is asking for the \"MOVIL\" value in the third row of the dataframe.\n",
      "Action: python_repl_ast\n",
      "Action Input: df.loc[2, 'MOVIL']\u001b[0m\u001b[36;1m\u001b[1;3mVENGANZA\u001b[0m\u001b[32;1m\u001b[1;3mIt looks like we already answered this question earlier!\n",
      "\n",
      "Final Answer: VENGANZA\u001b[0m\n",
      "\n",
      "\u001b[1m> Finished chain.\u001b[0m\n"
     ]
    },
    {
     "data": {
      "text/plain": [
       "'VENGANZA'"
      ]
     },
     "execution_count": 9,
     "metadata": {},
     "output_type": "execute_result"
    }
   ],
   "source": [
    "agent.run(\"el caso numero 3 cual fue el movil?\")"
   ]
  },
  {
   "cell_type": "code",
   "execution_count": null,
   "metadata": {},
   "outputs": [],
   "source": []
  }
 ],
 "metadata": {
  "kernelspec": {
   "display_name": "Python 3",
   "language": "python",
   "name": "python3"
  },
  "language_info": {
   "codemirror_mode": {
    "name": "ipython",
    "version": 3
   },
   "file_extension": ".py",
   "mimetype": "text/x-python",
   "name": "python",
   "nbconvert_exporter": "python",
   "pygments_lexer": "ipython3",
   "version": "3.10.0"
  }
 },
 "nbformat": 4,
 "nbformat_minor": 2
}
